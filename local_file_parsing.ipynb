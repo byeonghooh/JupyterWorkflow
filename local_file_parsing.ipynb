{
 "cells": [
  {
   "cell_type": "markdown",
   "metadata": {},
   "source": [
    "# Second Case : 학교 사용자 OOO님 \n",
    "## 분석 : 1~5번까지의 데이터를 모두(빠짐없이),  3번 항목 : “프로젝트 대회 – 음성인식부분” - 처리 별도로 해주어야 하는지의 여부 고려, 질문항목 Line에 맞추어(Enter 없이) 입력함. 정해진 답변 양식 후 상세 데이터 내용 입력함.\n",
    "### 특이사항 : 메일 하단부에 입력\n",
    "\n",
    "Note_190117(목)_반복문은 사용하지 않고, beautifulsoup을 이용해서 파싱이 되는 원리 파악"
   ]
  },
  {
   "cell_type": "code",
   "execution_count": 1,
   "metadata": {},
   "outputs": [
    {
     "name": "stdout",
     "output_type": "stream",
     "text": [
      "<html><head>\n",
      "<meta content=\"text/html; charset=utf-8\" http-equiv=\"Content-Type\"/><style>p{margin-top:0px;margin-bottom:0px;}</style></head>\n",
      "<body><div style=\"font-size:10pt; font-family:Gulim, sans-serif;\"><p> </p><p style=\"font-size:10pt;font-family:sans-serif;padding:0 0 0 10pt\"><span>-----Original Message-----</span><br/><b>From:</b> \"김원영\"&lt;wykim@etri.re.kr&gt; <br/><b>To:</b> \"eogh2811@naver.com\"&lt;eogh2811@naver.com&gt;; <br/><b>Cc:</b> \"이문영\"&lt;munyounglee@etri.re.kr&gt;; <br/><b>Sent:</b> 2018-12-13 (목) 08:14:34<br/><b>Subject:</b> [키발급신청] 김대호님, 공공 인공지능 오픈 API/DATA 서비스 포털 페이지 관리자입니다. (소속 정보 문의)<br/> </p>\n",
      "<xmeta content=\"text/html; charset=ks_c_5601-1987\" http-equiv=\"Content-Type\">\n",
      "<xmeta content=\"Microsoft Word 15 (filtered medium)\" name=\"Generator\">\n",
      "<!--[if gte mso 9]><![endif]--><!--[if gte mso 9]><![endif]-->\n",
      "<!-- -->\n",
      "<div>\n",
      "<p>안녕하세요<span lang=\"EN-US\">. </span>공공 인공지능 오픈<span lang=\"EN-US\"> API/DATA \n",
      "</span>서비스 관리자입니다<span lang=\"EN-US\"> . </span></p>\n",
      "<p> </p>\n",
      "<p>키를 신청하실때 소속을 “광주<span lang=\"EN-US\">SW</span>마이스터고등학교”로 입력해주셨습니다<span lang=\"EN-US\">.</span></p>\n",
      "<p> </p>\n",
      "<p>저희가 통계 수집을 위해 키발급 신청자를 소속별로 구분하여 관리하고 <span lang=\"EN-US\"></span></p>\n",
      "<p>세부 정보를 문의하고 있으니 확인을 부탁드립니다<span lang=\"EN-US\">  </span></p>\n",
      "<p><span lang=\"EN-US\"> </span></p>\n",
      "<p><span lang=\"EN-US\">1) </span>학생<span lang=\"EN-US\"> or </span>\n",
      "교사<span lang=\"EN-US\"> :                    </span></p>\n",
      "<p><span lang=\"EN-US\">2) </span>소속기관이 위치한 지역 또는 거주지역<span lang=\"EN-US\">:                    (</span>예<span lang=\"EN-US\">,\n",
      "</span>서울시 강남구<span lang=\"EN-US\">)</span></p>\n",
      "<p><span lang=\"EN-US\">3) </span>수행 중인 연구<span lang=\"EN-US\">:                                               \n",
      "</span></p>\n",
      "<p><span lang=\"EN-US\">4) </span>키 발급 목적<span lang=\"EN-US\">:                                     (</span>예<span lang=\"EN-US\">, xx\n",
      "</span>업무에 활용 등<span lang=\"EN-US\">)</span></p>\n",
      "<p><span lang=\"EN-US\">5) </span>본 서비스를 알게 된 경로<span lang=\"EN-US\">:                             (</span>예<span lang=\"EN-US\">,\n",
      "</span>주변 소개<span lang=\"EN-US\">, </span>인터넷 검색<span lang=\"EN-US\">, </span>언론 기사 등<span lang=\"EN-US\"> )</span></p>\n",
      "<p> </p>\n",
      "<p>감사합니다<span lang=\"EN-US\">.          </span></p>\n",
      "<p> </p>\n",
      "<p>관리자 드림<span lang=\"EN-US\"></span></p><p> </p>\n",
      "<p>-------------------------------------------</p>\n",
      "<p> </p>\n",
      "<p><span lang=\"EN-US\">1) </span>학생<span lang=\"EN-US\"> or </span>교사<span lang=\"EN-US\"> : 학생</span></p>\n",
      "<p><span lang=\"EN-US\">2) </span>소속기관이 위치한 지역 또는 거주지역<span lang=\"EN-US\">: 광주광역시 광산구</span></p>\n",
      "<p><span lang=\"EN-US\">3) </span>수행 중인 연구<span lang=\"EN-US\">: 교내 프로젝트 대회 - 음성 인식 부분</span></p>\n",
      "<p><span lang=\"EN-US\">4) </span>키 발급 목적<span lang=\"EN-US\">: 교내 프로젝트 대회에 음성 인식 기술을 활용하기 위해서 신청하게 됨</span></p>\n",
      "<p><span lang=\"EN-US\">5) </span>본 서비스를 알게 된 경로<span lang=\"EN-US\">: 인터넷 검색</span></p>\n",
      "</div>\n",
      "</xmeta></xmeta></div></body></html>\n",
      "<table style=\"display:none\"><tr><td><img border=\"0\" src=\"https://mail.naver.com/readReceipt/notify/?img=Fen%2FK4CNWrkoaAMYaquwFAvXKr3vKoMqMovwFAvXKq2ZKoM9pzKXMEIo%2BrkSKAu974lR74l4b4u516YQaX%2Bl1r0Rtzkdb4v5b4E51XU%3D.gif\"/></td></tr></table>\n",
      "\n"
     ]
    }
   ],
   "source": [
    "import urllib.request\n",
    "import bs4\n",
    "\n",
    "url = \"file:///C:/Users/byeonghooh/Documents/ETRI/1.%20%EB%8D%B0%EC%9D%B4%ED%84%B0%20%EB%B6%84%EC%84%9D%20%EB%B0%8F%20%ED%86%B5%EA%B3%84%20DB%20%EA%B5%AC%EC%B6%95/html_path/email%20(00000002).html\"\n",
    "html = urllib.request.urlopen(url)\n",
    "\n",
    "bsObj = bs4.BeautifulSoup(html, \"html.parser\", from_encoding = 'utf-8')\n",
    "\n",
    "#print(html.read())\n",
    "print(bsObj)"
   ]
  },
  {
   "cell_type": "code",
   "execution_count": 2,
   "metadata": {
    "scrolled": true
   },
   "outputs": [
    {
     "name": "stdout",
     "output_type": "stream",
     "text": [
      "[<span lang=\"EN-US\">1) </span>, <span lang=\"EN-US\"> or </span>, <span lang=\"EN-US\"> : 학생</span>]\n",
      "<span lang=\"EN-US\">1) </span>\n",
      "\n",
      "\n",
      "<p><span lang=\"EN-US\">1) </span>학생<span lang=\"EN-US\"> or </span>교사<span lang=\"EN-US\"> : 학생</span></p>\n",
      "<p><span lang=\"EN-US\">2) </span>소속기관이 위치한 지역 또는 거주지역<span lang=\"EN-US\">: 광주광역시 광산구</span></p>\n",
      "<p><span lang=\"EN-US\">3) </span>수행 중인 연구<span lang=\"EN-US\">: 교내 프로젝트 대회 - 음성 인식 부분</span></p>\n",
      "<p><span lang=\"EN-US\">4) </span>키 발급 목적<span lang=\"EN-US\">: 교내 프로젝트 대회에 음성 인식 기술을 활용하기 위해서 신청하게 됨</span></p>\n",
      "<p><span lang=\"EN-US\">5) </span>본 서비스를 알게 된 경로<span lang=\"EN-US\">: 인터넷 검색</span></p>\n",
      "[<span lang=\"EN-US\">2) </span>, <span lang=\"EN-US\">: 광주광역시 광산구</span>]\n"
     ]
    }
   ],
   "source": [
    "mail_tag_finder = bsObj.find_all('div') #, {\"class\":\"style\"}\n",
    "div_location = mail_tag_finder[1] #second div\n",
    "question_search_1 = div_location.find_all('p') #div안에 있는 p를 다 찾아서 배열에 넣어줌(demo에서 한 줄이라고 생각하면 됨) #소속\n",
    "                                               #해당 URL(outlook mail content)에서 메일 후반부에 위치한 \n",
    "                                               #사용자 정보는 인덱스 19~23까지 5줄에 걸쳐서 있음 \n",
    "question_search_2 = question_search_1[19].find_all('span') #first question\n",
    "question_search_3 = question_search_1[20].find_all('span') #second question\n",
    "question_search_4 = question_search_1[21].find_all('span') #third question\n",
    "question_search_5 = question_search_1[22].find_all('span') #fourth question\n",
    "question_search_6 = question_search_1[23].find_all('span') #Fifth question\n",
    "\n",
    "\n",
    "print(question_search_2)\n",
    "print(question_search_2[0])\n",
    "\n",
    "print(\"\\n\")\n",
    "print(question_search_1[19])\n",
    "print(question_search_1[20])\n",
    "print(question_search_1[21])\n",
    "print(question_search_1[22])\n",
    "print(question_search_1[23])\n",
    "\n",
    "print(question_search_3)\n"
   ]
  },
  {
   "cell_type": "code",
   "execution_count": 3,
   "metadata": {},
   "outputs": [
    {
     "name": "stdout",
     "output_type": "stream",
     "text": [
      "<span lang=\"EN-US\"> or </span>\n",
      "<span lang=\"EN-US\"> : 학생</span>\n"
     ]
    }
   ],
   "source": [
    "print(question_search_2[1])\n",
    "\n",
    "print(question_search_2[2])\n",
    "\n"
   ]
  },
  {
   "cell_type": "code",
   "execution_count": 4,
   "metadata": {},
   "outputs": [
    {
     "name": "stdout",
     "output_type": "stream",
     "text": [
      "<span lang=\"EN-US\">1) </span>\n",
      "<span lang=\"EN-US\"> or </span>\n",
      "<span lang=\"EN-US\"> : 학생</span>\n",
      "\n",
      "\n",
      "1) \n",
      " or \n",
      " : 학생\n"
     ]
    }
   ],
   "source": [
    "#same effect\n",
    "\n",
    "for i in question_search_2:\n",
    "    #if question_search_2 \n",
    "    print(i)\n",
    "    \n",
    "print(\"\\n\")\n",
    "for i in question_search_2:\n",
    "    print(i.text)"
   ]
  },
  {
   "cell_type": "code",
   "execution_count": 5,
   "metadata": {},
   "outputs": [
    {
     "name": "stdout",
     "output_type": "stream",
     "text": [
      "성공\n"
     ]
    }
   ],
   "source": [
    "str1 = \"1\"\n",
    "str2 = \"1\"\n",
    "\n",
    "if str1 == str2:\n",
    "    print(\"성공\")"
   ]
  },
  {
   "cell_type": "code",
   "execution_count": 6,
   "metadata": {},
   "outputs": [
    {
     "name": "stdout",
     "output_type": "stream",
     "text": [
      "1\n",
      " \n",
      " \n"
     ]
    }
   ],
   "source": [
    "for i in question_search_2:\n",
    "    print(i.text[0])    "
   ]
  },
  {
   "cell_type": "code",
   "execution_count": 7,
   "metadata": {},
   "outputs": [
    {
     "name": "stdout",
     "output_type": "stream",
     "text": [
      "<span lang=\"EN-US\"> : 학생</span>\n"
     ]
    }
   ],
   "source": [
    "print(question_search_2[2])"
   ]
  },
  {
   "cell_type": "code",
   "execution_count": 8,
   "metadata": {},
   "outputs": [
    {
     "name": "stdout",
     "output_type": "stream",
     "text": [
      "1) \n",
      " or \n",
      " : 학생\n",
      " \n",
      "<class 'str'>\n",
      "<class 'str'>\n"
     ]
    }
   ],
   "source": [
    "#tag delete\n",
    "\n",
    "for i in question_search_2:\n",
    "    #if question_search_2 \n",
    "    print(i.text)\n",
    "    \n",
    "print(i.text[0])\n",
    "print(type(i.text[0]))\n",
    "print(type(\"1\"))"
   ]
  },
  {
   "cell_type": "code",
   "execution_count": 9,
   "metadata": {},
   "outputs": [
    {
     "name": "stdout",
     "output_type": "stream",
     "text": [
      "success\n"
     ]
    }
   ],
   "source": [
    "for i in question_search_2:    \n",
    "    if i.text[0] == \"1\":\n",
    "        print(\"success\")\n",
    "        # print(i[2].text)\n",
    "        break"
   ]
  },
  {
   "cell_type": "markdown",
   "metadata": {},
   "source": [
    "# 1번 문항 결과 도출 (학생)"
   ]
  },
  {
   "cell_type": "code",
   "execution_count": 10,
   "metadata": {},
   "outputs": [
    {
     "name": "stdout",
     "output_type": "stream",
     "text": [
      " : 학생\n"
     ]
    }
   ],
   "source": [
    "for i in question_search_2:    # first question - key info parsing\n",
    "    if i.text[0] == \"1\":\n",
    "        print(question_search_2[2].text)\n",
    "        break"
   ]
  },
  {
   "cell_type": "code",
   "execution_count": 20,
   "metadata": {},
   "outputs": [
    {
     "name": "stdout",
     "output_type": "stream",
     "text": [
      ":\n",
      "<class 'str'>\n",
      "<class 'str'>\n",
      "\n",
      "\n",
      "2) \n",
      ": 광주광역시 광산구\n"
     ]
    }
   ],
   "source": [
    "#second question item check\n",
    "\n",
    "print(i.text[0])\n",
    "print(type(i.text[0]))\n",
    "print(type(\"2\"))\n",
    "\n",
    "print(\"\\n\")\n",
    "for i in question_search_3:    # second question - key info parsing\n",
    "    print(i.text)"
   ]
  },
  {
   "cell_type": "markdown",
   "metadata": {},
   "source": [
    "# 확인 : \"<span lang EN-US ! /span>\" 이라고 표시된 곳만 파싱 가능"
   ]
  },
  {
   "cell_type": "markdown",
   "metadata": {},
   "source": [
    "# 2번 문항 결과 도출 (광주광역시 광산구)"
   ]
  },
  {
   "cell_type": "code",
   "execution_count": 21,
   "metadata": {},
   "outputs": [
    {
     "name": "stdout",
     "output_type": "stream",
     "text": [
      ": 광주광역시 광산구\n"
     ]
    }
   ],
   "source": [
    "for i in question_search_3:    # second question - key info parsing\n",
    "    if i.text[0] == \"2\":\n",
    "        print(question_search_3[1].text)\n",
    "        break"
   ]
  },
  {
   "cell_type": "markdown",
   "metadata": {},
   "source": [
    "# 3번 문항 결과 도출 (교내 프로젝트 대회 - 음성 인식 부분)"
   ]
  },
  {
   "cell_type": "code",
   "execution_count": 26,
   "metadata": {},
   "outputs": [
    {
     "name": "stdout",
     "output_type": "stream",
     "text": [
      "3) \n",
      ": 교내 프로젝트 대회 - 음성 인식 부분\n"
     ]
    }
   ],
   "source": [
    "for i in question_search_4:    # second question - key info parsing\n",
    "    print(i.text)"
   ]
  },
  {
   "cell_type": "code",
   "execution_count": 29,
   "metadata": {},
   "outputs": [
    {
     "name": "stdout",
     "output_type": "stream",
     "text": [
      ": 교내 프로젝트 대회 - 음성 인식 부분\n"
     ]
    }
   ],
   "source": [
    "for i in question_search_4:    # third question - key info parsing\n",
    "    if i.text[0] == \"3\":\n",
    "        print(question_search_4[1].text)\n",
    "        break"
   ]
  },
  {
   "cell_type": "markdown",
   "metadata": {},
   "source": [
    "# 4번 문항 결과 도출 (교내 프로젝트 대회에 음성 인식 기술을 활용하기 위해서 신청하게 됨)"
   ]
  },
  {
   "cell_type": "code",
   "execution_count": 31,
   "metadata": {},
   "outputs": [
    {
     "name": "stdout",
     "output_type": "stream",
     "text": [
      "4) \n",
      ": 교내 프로젝트 대회에 음성 인식 기술을 활용하기 위해서 신청하게 됨\n"
     ]
    }
   ],
   "source": [
    "for i in question_search_5:    # second question - key info parsing\n",
    "    print(i.text)"
   ]
  },
  {
   "cell_type": "code",
   "execution_count": 32,
   "metadata": {},
   "outputs": [
    {
     "name": "stdout",
     "output_type": "stream",
     "text": [
      ": 교내 프로젝트 대회에 음성 인식 기술을 활용하기 위해서 신청하게 됨\n"
     ]
    }
   ],
   "source": [
    "for i in question_search_5:    # third question - key info parsing\n",
    "    if i.text[0] == \"4\":       # 배열로 담는 것 고려할 것!\n",
    "        print(question_search_5[1].text)\n",
    "        break"
   ]
  },
  {
   "cell_type": "markdown",
   "metadata": {},
   "source": [
    "# 5번 문항 결과 도출 (인터넷 검색)"
   ]
  },
  {
   "cell_type": "code",
   "execution_count": 33,
   "metadata": {},
   "outputs": [
    {
     "name": "stdout",
     "output_type": "stream",
     "text": [
      "5) \n",
      ": 인터넷 검색\n"
     ]
    }
   ],
   "source": [
    "for i in question_search_6:    # second question - key info parsing\n",
    "    print(i.text)"
   ]
  },
  {
   "cell_type": "code",
   "execution_count": 34,
   "metadata": {},
   "outputs": [
    {
     "name": "stdout",
     "output_type": "stream",
     "text": [
      ": 인터넷 검색\n"
     ]
    }
   ],
   "source": [
    "for i in question_search_6:    # third question - key info parsing\n",
    "    if i.text[0] == \"5\":       # 배열로 담는 것 고려할 것!\n",
    "        print(question_search_6[1].text)\n",
    "        break"
   ]
  },
  {
   "cell_type": "markdown",
   "metadata": {},
   "source": [
    "# Reference"
   ]
  },
  {
   "cell_type": "code",
   "execution_count": null,
   "metadata": {},
   "outputs": [],
   "source": [
    "#first_p = deep_top_right[0].find('span lang=\"EN-US\"')\n",
    "\n",
    "#print(first_p.text)"
   ]
  },
  {
   "cell_type": "code",
   "execution_count": null,
   "metadata": {},
   "outputs": [],
   "source": [
    "#mail_content = {}"
   ]
  },
  {
   "cell_type": "code",
   "execution_count": null,
   "metadata": {},
   "outputs": [],
   "source": [
    "#for mail in question_search_1.find_all('span'):\n",
    "#    mail_content[mail.text] = mail['lang']"
   ]
  }
 ],
 "metadata": {
  "kernelspec": {
   "display_name": "Python 3",
   "language": "python",
   "name": "python3"
  },
  "language_info": {
   "codemirror_mode": {
    "name": "ipython",
    "version": 3
   },
   "file_extension": ".py",
   "mimetype": "text/x-python",
   "name": "python",
   "nbconvert_exporter": "python",
   "pygments_lexer": "ipython3",
   "version": "3.7.0"
  }
 },
 "nbformat": 4,
 "nbformat_minor": 2
}
